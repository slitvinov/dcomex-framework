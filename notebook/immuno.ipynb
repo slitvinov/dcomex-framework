{
  "cells": [
    {
      "cell_type": "markdown",
      "id": "13228ed7-759f-408e-8aff-511165a80b61",
      "metadata": {
        "id": "13228ed7-759f-408e-8aff-511165a80b61"
      },
      "source": [
        "[![Open In Colab](https://colab.research.google.com/assets/colab-badge.svg)](https://colab.research.google.com/github/slitvinov/dcomex-framework/blob/master/notebook/immuno.ipynb)"
      ]
    },
    {
      "cell_type": "code",
      "execution_count": null,
      "id": "d83d4c05-3237-4574-88d5-40e81eef1817",
      "metadata": {
        "id": "d83d4c05-3237-4574-88d5-40e81eef1817"
      },
      "outputs": [],
      "source": [
        "%%sh\n",
        "git clone --depth 1 --quiet https://github.com/slitvinov/dcomex-framework"
      ]
    },
    {
      "cell_type": "code",
      "source": [
        "%cd /content/dcomex-framework/notebook"
      ],
      "metadata": {
        "id": "coHtlm3fZDfV"
      },
      "id": "coHtlm3fZDfV",
      "execution_count": null,
      "outputs": []
    },
    {
      "cell_type": "code",
      "execution_count": null,
      "id": "399a8702-710a-45a5-b5a4-bf122e1c543b",
      "metadata": {
        "id": "399a8702-710a-45a5-b5a4-bf122e1c543b"
      },
      "outputs": [],
      "source": [
        "import utils\n",
        "import numpy as np\n",
        "import matplotlib.pyplot as plt\n",
        "\n",
        "cnt = 0\n",
        "for params, time, volume, status in utils.read11(\"a.tar.gz\"):\n",
        "    if status == 0:\n",
        "        time = np.divide(time, 60 * 60 * 24)\n",
        "        location = params[\"location\"]\n",
        "        index = np.searchsorted(time, location)\n",
        "        plt.plot(time,\n",
        "                 volume,\n",
        "                 'k', [location], [volume[index]],\n",
        "                 'ok',\n",
        "                 alpha=0.5)\n",
        "        cnt += 1\n",
        "    if cnt == 20:\n",
        "        break"
      ]
    }
  ],
  "metadata": {
    "colab": {
      "provenance": []
    },
    "kernelspec": {
      "display_name": "Python 3 (ipykernel)",
      "language": "python",
      "name": "python3"
    },
    "language_info": {
      "codemirror_mode": {
        "name": "ipython",
        "version": 3
      },
      "file_extension": ".py",
      "mimetype": "text/x-python",
      "name": "python",
      "nbconvert_exporter": "python",
      "pygments_lexer": "ipython3",
      "version": "3.8.10"
    }
  },
  "nbformat": 4,
  "nbformat_minor": 5
}