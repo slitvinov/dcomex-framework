{
  "cells": [
    {
      "cell_type": "markdown",
      "id": "13228ed7-759f-408e-8aff-511165a80b61",
      "metadata": {
        "id": "13228ed7-759f-408e-8aff-511165a80b61"
      },
      "source": [
        "[![Open In Colab](https://colab.research.google.com/assets/colab-badge.svg)](https://colab.research.google.com/github/slitvinov/dcomex-framework/blob/master/notebook/analysis.ipynb)"
      ]
    },
    {
      "cell_type": "code",
      "execution_count": null,
      "id": "DANk8UKtGx-y",
      "metadata": {
        "id": "DANk8UKtGx-y"
      },
      "outputs": [],
      "source": [
        "%%sh\n",
        "if ! test -f .clone\n",
        "then git clone --depth 1 --quiet https://github.com/slitvinov/dcomex-framework &&\n",
        "     : > .clone\n",
        "fi"
      ]
    },
    {
      "cell_type": "code",
      "execution_count": null,
      "id": "4rPhLeNk_3EG",
      "metadata": {
        "id": "4rPhLeNk_3EG"
      },
      "outputs": [],
      "source": [
        "import glob\n",
        "import math\n",
        "import matplotlib.pyplot as plt\n",
        "import os\n",
        "import xml.etree.ElementTree as ET\n",
        "import tarfile\n",
        "import re\n",
        "import numpy as np"
      ]
    },
    {
      "cell_type": "code",
      "source": [
        "def plot(*arg, **karg):\n",
        "    plt.yscale(\"log\")\n",
        "    plt.xlabel(\"time (days)\")\n",
        "    plt.ylabel(\"relative tumor volume (log scale)\")\n",
        "    plt.plot(*arg, **karg)\n",
        "KEYS = set((\"includeImmuno\", \"k1\", \"kd\", \"keepLogs\", \"k_on\", \"K_T\",\n",
        "            \"k_th_tumor\", \"location\", \"location_2\", \"location_3\", \"Lp\",\n",
        "            \"miTumor\", \"Per\", \"pv\", \"sf\", \"Sv\"))\n",
        "def read11(path):\n",
        "    with tarfile.open(path, 'r') as tar:\n",
        "        for member in tar.getmembers():\n",
        "            if re.match(\"^[0-9][0-9][0-9][0-9][0-9][0-9][0-9][0-9]/status$\",\n",
        "                        member.name):\n",
        "                dirname = re.sub(\"/status$\", \"\", member.name)\n",
        "                root = ET.parse(tar.extractfile(dirname + \"/MSolveInput.xml\"))\n",
        "                params = {\n",
        "                    key.tag:\n",
        "                    True if key.text == \"true\" else\n",
        "                    False if key.text == \"false\" else float(key.text)\n",
        "                    for key in root.find('./Parameters') if key.tag in KEYS\n",
        "                }\n",
        "                status = int(\n",
        "                    tar.extractfile(dirname +\n",
        "                                    \"/status\").read().decode('utf-8'))\n",
        "                volume_file = tar.extractfile(\n",
        "                    dirname +\n",
        "                    \"/tumorVolume_AnalysisNo_1.txt\").read().decode('utf-8')\n",
        "                time_file = tar.extractfile(\n",
        "                    dirname +\n",
        "                    \"/timeStepTotalTimes_AnalysisNo_1.txt\").read().decode(\n",
        "                        'utf-8')\n",
        "                volume = []\n",
        "                time = []\n",
        "                for t, v in zip(time_file.split(), volume_file.split()):\n",
        "                    if v == \"0.000000E+000\":\n",
        "                        break\n",
        "                    time.append(float(t))\n",
        "                    volume.append(float(v))\n",
        "                yield params, time, volume, status\n"
      ],
      "metadata": {
        "id": "ViMWBnzs--JO"
      },
      "id": "ViMWBnzs--JO",
      "execution_count": null,
      "outputs": []
    },
    {
      "cell_type": "code",
      "execution_count": null,
      "id": "2voa9a2oIcSh",
      "metadata": {
        "id": "2voa9a2oIcSh"
      },
      "outputs": [],
      "source": [
        "cnt = 0\n",
        "for params, time, volume, status in read11(\"dcomex-framework/notebook/1.tar.gz\"):\n",
        "    if status == 0:\n",
        "        time = np.divide(time, 60 * 60 * 24)\n",
        "        volume = np.divide(volume, volume[0])\n",
        "        location = params[\"location\"]\n",
        "        index = np.searchsorted(time, location)\n",
        "        plot(time,\n",
        "             volume,\n",
        "             'k-', [location], [volume[index]],\n",
        "             'ok',\n",
        "             alpha=0.5)\n",
        "        cnt += 1\n",
        "    if cnt == 10:\n",
        "        break"
      ]
    }
  ],
  "metadata": {
    "colab": {
      "provenance": []
    },
    "kernelspec": {
      "display_name": "Python 3 (ipykernel)",
      "language": "python",
      "name": "python3"
    },
    "language_info": {
      "codemirror_mode": {
        "name": "ipython",
        "version": 3
      },
      "file_extension": ".py",
      "mimetype": "text/x-python",
      "name": "python",
      "nbconvert_exporter": "python",
      "pygments_lexer": "ipython3",
      "version": "3.8.10"
    }
  },
  "nbformat": 4,
  "nbformat_minor": 5
}