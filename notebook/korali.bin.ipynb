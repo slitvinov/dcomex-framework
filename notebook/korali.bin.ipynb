{
 "cells": [
  {
   "cell_type": "markdown",
   "id": "26e75489",
   "metadata": {
    "id": "638af8d0-01f1-44ca-bcd7-08dbf245f194"
   },
   "source": [
    "[![Open In Colab](https://colab.research.google.com/assets/colab-badge.svg)](https://colab.research.google.com/github/slitvinov/dcomex-framework/blob/master/notebook/korali.bin.ipynb)"
   ]
  },
  {
   "cell_type": "code",
   "execution_count": null,
   "id": "be661e06",
   "metadata": {},
   "outputs": [],
   "source": [
    "%%sh\n",
    "git clone https://github.com/slitvinov/dcomex-framework.git"
   ]
  },
  {
   "cell_type": "code",
   "execution_count": null,
   "id": "705c8f73",
   "metadata": {},
   "outputs": [],
   "source": [
    "%%sh\n",
    "apt-get -qq install --no-install-recommends libgsl-dev"
   ]
  },
  {
   "cell_type": "code",
   "execution_count": null,
   "id": "277024ef",
   "metadata": {},
   "outputs": [],
   "source": [
    "%%sh\n",
    "cd dcomex-framework/koral\n",
    "make install 'USER = 1'"
   ]
  }
 ],
 "metadata": {
  "jupytext": {
   "main_language": "python"
  },
  "kernelspec": {
   "display_name": "Python 3",
   "name": "python3"
  }
 },
 "nbformat": 4,
 "nbformat_minor": 5
}
