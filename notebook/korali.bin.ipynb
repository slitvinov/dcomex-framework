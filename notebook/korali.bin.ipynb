{
  "cells": [
    {
      "cell_type": "markdown",
      "id": "26e75489",
      "metadata": {
        "id": "26e75489"
      },
      "source": [
        "[![Open In Colab](https://colab.research.google.com/assets/colab-badge.svg)](https://colab.research.google.com/github/slitvinov/dcomex-framework/blob/master/notebook/korali.bin.ipynb)"
      ]
    },
    {
      "cell_type": "code",
      "execution_count": null,
      "id": "be661e06",
      "metadata": {
        "id": "be661e06"
      },
      "outputs": [],
      "source": [
        "%%sh\n",
        "git clone -q --depth 1 https://github.com/slitvinov/dcomex-framework.git"
      ]
    },
    {
      "cell_type": "code",
      "execution_count": null,
      "id": "705c8f73",
      "metadata": {
        "id": "705c8f73"
      },
      "outputs": [],
      "source": [
        "%%sh\n",
        "apt-get -qq install -qq --no-install-recommends libgsl-dev libeigen3-dev python3-pybind11"
      ]
    },
    {
      "cell_type": "code",
      "source": [
        "%pip install -qqq --progress-bar off mpi4py"
      ],
      "metadata": {
        "id": "IjyD8uUPTjyW"
      },
      "id": "IjyD8uUPTjyW",
      "execution_count": null,
      "outputs": []
    },
    {
      "cell_type": "code",
      "execution_count": null,
      "id": "277024ef",
      "metadata": {
        "id": "277024ef"
      },
      "outputs": [],
      "source": [
        "%%sh\n",
        "cd dcomex-framework/korali\n",
        "make install 'USER = 1' -j `nproc`"
      ]
    },
    {
      "cell_type": "code",
      "source": [
        "%%sh\n",
        "cd dcomex-framework/korali/examples/features/running.cxx\n",
        "make\n",
        "./run-tmcmc"
      ],
      "metadata": {
        "id": "KG4GhLrabd-J"
      },
      "id": "KG4GhLrabd-J",
      "execution_count": null,
      "outputs": []
    }
  ],
  "metadata": {
    "jupytext": {
      "main_language": "python"
    },
    "kernelspec": {
      "display_name": "Python 3",
      "name": "python3"
    },
    "colab": {
      "provenance": []
    }
  },
  "nbformat": 4,
  "nbformat_minor": 5
}